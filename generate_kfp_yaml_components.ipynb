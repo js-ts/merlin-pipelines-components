{
 "cells": [
  {
   "cell_type": "markdown",
   "metadata": {},
   "source": [
    "### Build your pipeline components\n",
    "> A tutorial on building kubeflow pipelines components yaml files from kfp functional component\n",
    "\n",
    "1.  Run the following command to install the Kubeflow Pipelines SDK. If you run this command in a Jupyter\n",
    "    notebook, restart the kernel after installing the SDK."
   ]
  },
  {
   "cell_type": "code",
   "execution_count": null,
   "metadata": {},
   "outputs": [],
   "source": [
    "!pip install kfp --upgrade"
   ]
  },
  {
   "cell_type": "markdown",
   "metadata": {},
   "source": [
    "2.  Import the `kfp` packages"
   ]
  },
  {
   "cell_type": "code",
   "execution_count": null,
   "metadata": {},
   "outputs": [],
   "source": [
    "from kfp.v2 import dsl"
   ]
  },
  {
   "cell_type": "markdown",
   "metadata": {},
   "source": []
  },
  {
   "cell_type": "code",
   "execution_count": null,
   "metadata": {},
   "outputs": [],
   "source": [
    "@dsl.component(\n",
    "    base_image= #base image eg python:3.7\n",
    "    ,\n",
    "    install_kfp_package=False,\n",
    "    output_component_file=#output file name.yaml eg component.yaml or folder path eg ./sample_data/component.yaml\n",
    "    ,\n",
    "    packages_to_install=[ #packages that you want to install eg 'pandas==1.1.4'\n",
    "    ]\n",
    ")\n",
    "# write your function here\n"
   ]
  },
  {
   "cell_type": "code",
   "execution_count": null,
   "metadata": {},
   "outputs": [],
   "source": []
  }
 ],
 "metadata": {
  "language_info": {
   "name": "python"
  },
  "orig_nbformat": 4
 },
 "nbformat": 4,
 "nbformat_minor": 2
}
